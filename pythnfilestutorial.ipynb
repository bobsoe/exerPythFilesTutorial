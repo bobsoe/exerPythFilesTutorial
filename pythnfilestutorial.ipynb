{
 "cells": [
  {
   "cell_type": "code",
   "execution_count": 1,
   "id": "84760eb4",
   "metadata": {},
   "outputs": [],
   "source": [
    "f = open('test.txt', 'r')"
   ]
  },
  {
   "cell_type": "code",
   "execution_count": 2,
   "id": "bf3a80c8",
   "metadata": {},
   "outputs": [
    {
     "name": "stdout",
     "output_type": "stream",
     "text": [
      "f.name\n"
     ]
    }
   ],
   "source": [
    "print('f.name')\n",
    "f.close()"
   ]
  },
  {
   "cell_type": "code",
   "execution_count": 5,
   "id": "02869d68",
   "metadata": {},
   "outputs": [
    {
     "name": "stdout",
     "output_type": "stream",
     "text": [
      "f.name\n",
      "r\n"
     ]
    }
   ],
   "source": [
    "f = open('test.txt', 'r')\n",
    "print('f.name')\n",
    "print(f.mode)\n",
    "f.close()"
   ]
  },
  {
   "cell_type": "code",
   "execution_count": 6,
   "id": "0e1de4ad",
   "metadata": {},
   "outputs": [
    {
     "name": "stdout",
     "output_type": "stream",
     "text": [
      "f.name\n",
      "w\n"
     ]
    }
   ],
   "source": [
    "f = open('test.txt', 'w')\n",
    "print('f.name')\n",
    "print(f.mode)\n",
    "f.close()"
   ]
  },
  {
   "cell_type": "code",
   "execution_count": 7,
   "id": "27cd0b17",
   "metadata": {},
   "outputs": [
    {
     "name": "stdout",
     "output_type": "stream",
     "text": [
      "f.name\n",
      "a\n"
     ]
    }
   ],
   "source": [
    "f = open('test.txt', 'a')\n",
    "print('f.name')\n",
    "print(f.mode)\n",
    "f.close()"
   ]
  },
  {
   "cell_type": "code",
   "execution_count": 8,
   "id": "38d1201f",
   "metadata": {},
   "outputs": [
    {
     "name": "stdout",
     "output_type": "stream",
     "text": [
      "f.name\n",
      "r+\n"
     ]
    }
   ],
   "source": [
    "f = open('test.txt', 'r+')\n",
    "print('f.name')\n",
    "print(f.mode)\n",
    "f.close()"
   ]
  },
  {
   "cell_type": "code",
   "execution_count": 17,
   "id": "dd1503d4",
   "metadata": {},
   "outputs": [
    {
     "name": "stdout",
     "output_type": "stream",
     "text": [
      "r\n"
     ]
    }
   ],
   "source": [
    "with open('test.txt', 'r') as f:\n",
    "    pass\n",
    "print(f.mode)"
   ]
  },
  {
   "cell_type": "code",
   "execution_count": 19,
   "id": "4127ca58",
   "metadata": {},
   "outputs": [
    {
     "name": "stdout",
     "output_type": "stream",
     "text": [
      "\n"
     ]
    }
   ],
   "source": [
    "with open('test.txt', 'r') as f:\n",
    "    f_contents = f.read()\n",
    "print(f_contents)"
   ]
  },
  {
   "cell_type": "code",
   "execution_count": 5,
   "id": "a9fbb856",
   "metadata": {},
   "outputs": [
    {
     "name": "stdout",
     "output_type": "stream",
     "text": [
      "[]\n"
     ]
    }
   ],
   "source": [
    "with open('test.txt', 'r') as f:\n",
    "    f_contents = f.readlines()\n",
    "print(f_contents)"
   ]
  },
  {
   "cell_type": "code",
   "execution_count": 6,
   "id": "12815e3e",
   "metadata": {},
   "outputs": [
    {
     "name": "stdout",
     "output_type": "stream",
     "text": [
      "\n"
     ]
    }
   ],
   "source": [
    "with open('test.txt', 'r') as f:\n",
    "    f_contents = f.readline()\n",
    "print(f_contents)"
   ]
  },
  {
   "cell_type": "code",
   "execution_count": 7,
   "id": "925ecb94",
   "metadata": {},
   "outputs": [
    {
     "name": "stdout",
     "output_type": "stream",
     "text": [
      "\n"
     ]
    }
   ],
   "source": [
    "with open('test.txt', 'r') as f:\n",
    "    f_contents = f.read(100)\n",
    "print(f_contents)"
   ]
  },
  {
   "cell_type": "code",
   "execution_count": 9,
   "id": "aed81721",
   "metadata": {},
   "outputs": [],
   "source": [
    "with open('test.txt', 'r') as f:\n",
    "    \n",
    "    size_to_read = 100\n",
    "    \n",
    "    f_contents = f.read(size_to_read)\n",
    "    \n",
    "    while len(f_contents) > 0:\n",
    "        print(f_contents, end='')\n",
    "        f_contents = f.read(size_to_read)"
   ]
  },
  {
   "cell_type": "code",
   "execution_count": 10,
   "id": "02201b82",
   "metadata": {},
   "outputs": [
    {
     "name": "stdout",
     "output_type": "stream",
     "text": [
      "0\n"
     ]
    }
   ],
   "source": [
    "with open('test.txt', 'r') as f:\n",
    "    \n",
    "    size_to_read = 100\n",
    "    \n",
    "    f_contents = f.read(size_to_read)\n",
    "    \n",
    " \n",
    "    print(f.tell())\n",
    "        "
   ]
  },
  {
   "cell_type": "code",
   "execution_count": 12,
   "id": "1cccabae",
   "metadata": {},
   "outputs": [
    {
     "name": "stdout",
     "output_type": "stream",
     "text": [
      "\n"
     ]
    }
   ],
   "source": [
    "with open('test.txt', 'r') as f:\n",
    "    \n",
    "    size_to_read = 10\n",
    "    \n",
    "    f_contents = f.read(size_to_read)\n",
    "    print(f_contents, end='')\n",
    "    \n",
    "    f.seek(0)\n",
    "    \n",
    "    f_contents = f.read(size_to_read)\n",
    "    print(f_contents)"
   ]
  },
  {
   "cell_type": "code",
   "execution_count": 13,
   "id": "078fcd8e",
   "metadata": {},
   "outputs": [
    {
     "ename": "UnsupportedOperation",
     "evalue": "not writable",
     "output_type": "error",
     "traceback": [
      "\u001b[0;31m---------------------------------------------------------------------------\u001b[0m",
      "\u001b[0;31mUnsupportedOperation\u001b[0m                      Traceback (most recent call last)",
      "\u001b[0;32m<ipython-input-13-f1ca0689b05f>\u001b[0m in \u001b[0;36m<module>\u001b[0;34m\u001b[0m\n\u001b[1;32m      1\u001b[0m \u001b[0;32mwith\u001b[0m \u001b[0mopen\u001b[0m\u001b[0;34m(\u001b[0m\u001b[0;34m'test.txt'\u001b[0m\u001b[0;34m,\u001b[0m \u001b[0;34m'r'\u001b[0m\u001b[0;34m)\u001b[0m \u001b[0;32mas\u001b[0m \u001b[0mf\u001b[0m\u001b[0;34m:\u001b[0m\u001b[0;34m\u001b[0m\u001b[0;34m\u001b[0m\u001b[0m\n\u001b[0;32m----> 2\u001b[0;31m     \u001b[0mf\u001b[0m\u001b[0;34m.\u001b[0m\u001b[0mwrite\u001b[0m\u001b[0;34m(\u001b[0m\u001b[0;34m'test'\u001b[0m\u001b[0;34m)\u001b[0m\u001b[0;34m\u001b[0m\u001b[0;34m\u001b[0m\u001b[0m\n\u001b[0m",
      "\u001b[0;31mUnsupportedOperation\u001b[0m: not writable"
     ]
    }
   ],
   "source": [
    "with open('test.txt', 'r') as f:\n",
    "    f.write('test')"
   ]
  },
  {
   "cell_type": "code",
   "execution_count": 14,
   "id": "09e87203",
   "metadata": {},
   "outputs": [],
   "source": [
    "with open('test2.txt', 'w') as f:\n",
    "    pass"
   ]
  },
  {
   "cell_type": "code",
   "execution_count": 15,
   "id": "1290778d",
   "metadata": {},
   "outputs": [],
   "source": [
    "with open('test2.txt', 'w') as f:\n",
    "    f.write('Test')"
   ]
  },
  {
   "cell_type": "code",
   "execution_count": 16,
   "id": "643304e8",
   "metadata": {},
   "outputs": [],
   "source": [
    "with open('test2.txt', 'w') as f:\n",
    "    f.write('Test')\n",
    "    f.write('Test')"
   ]
  },
  {
   "cell_type": "code",
   "execution_count": 17,
   "id": "1e22a0b4",
   "metadata": {},
   "outputs": [],
   "source": [
    "with open('test2.txt', 'w') as f:\n",
    "    f.write('Test')\n",
    "    f.seek(0)\n",
    "    f.write('Test')"
   ]
  },
  {
   "cell_type": "code",
   "execution_count": 18,
   "id": "ed67c13d",
   "metadata": {},
   "outputs": [],
   "source": [
    "with open('test2.txt', 'w') as f:\n",
    "    f.seek(0)\n",
    "    f.write('Test')\n",
    "    f.write('R')"
   ]
  },
  {
   "cell_type": "code",
   "execution_count": 19,
   "id": "2ecf1e4e",
   "metadata": {},
   "outputs": [],
   "source": [
    "with open('test.txt', 'r') as rf:\n",
    "    with open('test_copy.txt', 'w') as wf:\n",
    "        for line in rf:\n",
    "            wf.write(line)"
   ]
  },
  {
   "cell_type": "code",
   "execution_count": 20,
   "id": "d5eb4505",
   "metadata": {},
   "outputs": [],
   "source": [
    "with open('pic.jpg', 'rb') as rf:\n",
    "    with open('test_copy.txt', 'wb') as wf:\n",
    "        for line in rf:\n",
    "            wf.write(line)"
   ]
  },
  {
   "cell_type": "code",
   "execution_count": 22,
   "id": "afd1040e",
   "metadata": {},
   "outputs": [],
   "source": [
    "with open('pic.jpg', 'rb') as rf:\n",
    "    with open('test_copy.jpg', 'wb') as wf:\n",
    "        chunk_size = 4096\n",
    "        rf_chunk = rf.read(chunk_size)\n",
    "        while len(rf_chunk) > 0:\n",
    "            wf.write(rf_chunk)\n",
    "            rf_chunk = rf.read(chunk_size)"
   ]
  },
  {
   "cell_type": "code",
   "execution_count": null,
   "id": "20ef078b",
   "metadata": {},
   "outputs": [],
   "source": []
  }
 ],
 "metadata": {
  "kernelspec": {
   "display_name": "Python 3.8.8 64-bit ('base': conda)",
   "language": "python",
   "name": "python388jvsc74a57bd08249976018b44d3e50e6035bd94aafb2e264aa7799b8bde7936e85a6320f4fe8"
  },
  "language_info": {
   "codemirror_mode": {
    "name": "ipython",
    "version": 3
   },
   "file_extension": ".py",
   "mimetype": "text/x-python",
   "name": "python",
   "nbconvert_exporter": "python",
   "pygments_lexer": "ipython3",
   "version": "3.8.8"
  }
 },
 "nbformat": 4,
 "nbformat_minor": 5
}
